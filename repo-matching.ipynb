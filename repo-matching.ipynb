{
 "cells": [
  {
   "cell_type": "code",
   "execution_count": 1,
   "id": "536a363d",
   "metadata": {},
   "outputs": [],
   "source": [
    "import scipy\n",
    "import numpy as np\n",
    "import pandas as pd\n",
    "import matplotlib.pyplot as plt\n",
    "from scipy import spatial\n",
    "import json\n",
    "import tabulate\n",
    "import re\n",
    "import math"
   ]
  },
  {
   "cell_type": "code",
   "execution_count": 101,
   "id": "cf08c8b2",
   "metadata": {},
   "outputs": [
    {
     "data": {
      "text/html": [
       "<style>.container { width:100% !important; }</style>"
      ],
      "text/plain": [
       "<IPython.core.display.HTML object>"
      ]
     },
     "metadata": {},
     "output_type": "display_data"
    }
   ],
   "source": [
    "# fill the whole window\n",
    "from IPython.display import display, HTML\n",
    "display(HTML(\"<style>.container { width:100% !important; }</style>\"))"
   ]
  },
  {
   "cell_type": "code",
   "execution_count": 9,
   "id": "7013ff08",
   "metadata": {},
   "outputs": [],
   "source": [
    "repos = pd.read_csv(\"all_repos.csv\", low_memory=False)\n"
   ]
  },
  {
   "cell_type": "markdown",
   "id": "3d6c6831",
   "metadata": {},
   "source": [
    "Now take out all mirrors\n",
    "\n",
    "1. take all those that mention \"mailing\" in the description\n",
    "2. take all those that mention \"sr.ht\" or \"sourcehut\" in the description: sourcehut uses mailinglists\n",
    "3. take all those that are marked as mirrors by github\n",
    "4. take all those that contain \"mirror\"  "
   ]
  },
  {
   "cell_type": "code",
   "execution_count": 5,
   "id": "8564d56f",
   "metadata": {
    "scrolled": false
   },
   "outputs": [
    {
     "name": "stdout",
     "output_type": "stream",
     "text": [
      "Number of repos that contain mailing, mirror, sr.ht, sourcehut in the description: 740\n",
      "Number of repos marked as mirror: 52\n",
      "Union of the ones above (without duplicates): 769\n",
      "number of repos on gitlab: 95\n",
      "Number of repos from apache: 60\n",
      "Number of repos from gitlab url: 5\n",
      "Number of repos that are not on gitlab: 674\n",
      "Number of repos that are not from apache: 614\n"
     ]
    }
   ],
   "source": [
    "candidates = repos[repos['description'].str.contains('(?i)mailing|mirror',regex=True, na=False)]\n",
    "print(\"Number of repos that contain mailing, mirror, sr.ht, sourcehut in the description: \" + str(len(candidates.index)))\n",
    "\n",
    "has_mirror = repos[repos['mirror_url'].notnull()]\n",
    "print(\"Number of repos marked as mirror: \" + str(len(has_mirror.index)))\n",
    "\n",
    "candidates = pd.concat([candidates, has_mirror]).drop_duplicates()\n",
    "print(\"Union of the ones above (without duplicates): \" + str(len(candidates.index)))\n",
    "\n",
    "candidates[\"has_mirror_url\"] = candidates['mirror_url'].notnull()\n",
    "candidates[\"has_mailing_desc\"] = candidates['description'].str.contains('(?i)mailing',regex=True, na=False)\n",
    "candidates[\"has_mirror_desc\"] = candidates['description'].str.contains('(?i)mirror',regex=True, na=False)\n",
    "\n",
    "\n",
    "gitlab_desc = candidates[candidates['description'].str.contains('(?i)gitlab',regex=True, na=False)]\n",
    "gitlab_url = candidates[candidates['mirror_url'].str.contains('(?i)gitlab',regex=True, na=False)]\n",
    "gitlab = pd.concat([gitlab_desc, gitlab_url]).drop_duplicates()\n",
    "print(\"number of repos on gitlab: \" + str(len(gitlab.index)))\n",
    "\n",
    "apache = candidates[candidates['name'].str.contains('(?i)^apache/',regex=True, na=False)]\n",
    "print(\"Number of repos from apache: \" + str(len(apache.index)))\n",
    "\n",
    "gitlab2 = repos[repos['mirror_url'].str.contains('(?i)gitlab',regex=True, na=False)]\n",
    "print(\"Number of repos from gitlab url: \" + str(len(gitlab2.index)))\n",
    "\n",
    "# remove the ones that are on gitlab\n",
    "candidates = candidates.drop(gitlab.index)\n",
    "print(\"Number of repos that are not on gitlab: \" + str(len(candidates.index)))\n",
    "candidates = candidates.drop(apache.index)\n",
    "print(\"Number of repos that are not from apache and not on gitlab: \" + str(len(candidates.index)))\n",
    "\n",
    "# now write them to a file for manual inspection\n",
    "#candidates[['name', 'has_mirror_url', 'has_mailing_desc', 'has_mirror_desc']].to_csv('mailing_list_candidates.csv', index=False)"
   ]
  },
  {
   "cell_type": "markdown",
   "id": "6d7564fc",
   "metadata": {},
   "source": [
    "Now it's time for a manual check of the repositories: mailing_list_candidates will have one more column that describes if the repo uses mailing list (True) of if it doesn't (False).\n",
    "\n",
    "The following is a "
   ]
  },
  {
   "cell_type": "code",
   "execution_count": 7,
   "id": "025a1a65",
   "metadata": {},
   "outputs": [
    {
     "name": "stdout",
     "output_type": "stream",
     "text": [
      "                    name  has_mirror_url  has_mailing_desc  has_mirror_desc  \\\n",
      "0           bzg/org-mode           False             False             True   \n",
      "1       guix-mirror/guix           False             False             True   \n",
      "2       exg/rxvt-unicode           False             False             True   \n",
      "3   zx2c4/password-store           False              True             True   \n",
      "4       coreboot/seabios           False             False             True   \n",
      "5              gpg/gnupg           False              True             True   \n",
      "6        lwip-tcpip/lwip           False             False             True   \n",
      "7         mirror/busybox           False             False             True   \n",
      "8     emacs-mirror/emacs            True             False             True   \n",
      "9    buildroot/buildroot           False             False             True   \n",
      "10           nginx/nginx           False              True             True   \n",
      "\n",
      "   has_ml   mirror direct_pull indirect_pull ml_type matched comment  \n",
      "0    True     cgit       False         False      ok   False     NaN  \n",
      "1    True     cgit       False         False      ok   False     NaN  \n",
      "2    True    other       False         False      ok    True     NaN  \n",
      "3    True     cgit       False         False      ok    True     NaN  \n",
      "4    True  gitiles       False         False      ok    True     NaN  \n",
      "5    True   gitweb       False         False      ok    True     NaN  \n",
      "6    True     cgit       False         False      ok    True     NaN  \n",
      "7    True     cgit       False         False      ok    True     NaN  \n",
      "8    True     cgit       False         False      ok   False     NaN  \n",
      "9    True     cgit       False         False      ok     NaN      ok  \n",
      "10   True    other       False         False      ok    True     NaN  \n"
     ]
    }
   ],
   "source": [
    "# load after manual check\n",
    "mailing = pd.read_csv(\"manual_check.csv\")\n",
    "mailing = mailing[mailing['ml_type']==\"ok\"].reset_index(drop=True)\n",
    "print(mailing)"
   ]
  },
  {
   "cell_type": "code",
   "execution_count": 17,
   "id": "02029963",
   "metadata": {
    "scrolled": true
   },
   "outputs": [
    {
     "name": "stdout",
     "output_type": "stream",
     "text": [
      "                    name                                        description  \\\n",
      "0           bzg/org-mode             This is a MIRROR only, do not send PR.   \n",
      "1       guix-mirror/guix  Read-only mirror of GNU Guix — pull requests a...   \n",
      "2       exg/rxvt-unicode          git mirror of rxvt-unicode cvs repository   \n",
      "3   zx2c4/password-store  Read-only mirror of https://git.zx2c4.com/pass...   \n",
      "4       coreboot/seabios                                  mirror of seabios   \n",
      "5              gpg/gnupg  The GNU Privacy Guard. NOTE: Maintainers are n...   \n",
      "6        lwip-tcpip/lwip  lwIP mirror from http://git.savannah.gnu.org/c...   \n",
      "7         mirror/busybox                                     BusyBox mirror   \n",
      "8     emacs-mirror/emacs                                Mirror of GNU Emacs   \n",
      "9    buildroot/buildroot  Buildroot, making embedded Linux easy. Note th...   \n",
      "10           nginx/nginx  An official read-only mirror of http://hg.ngin...   \n",
      "\n",
      "    is_fork  forks_count                                           homepage  \\\n",
      "0     False           41       https://orgmode.org/worg/org-contribute.html   \n",
      "1     False           55                               https://guix.gnu.org   \n",
      "2     False           61                                                NaN   \n",
      "3     False           94                                                NaN   \n",
      "4     False          108                                                NaN   \n",
      "5     False          135  https://git.gnupg.org/cgi-bin/gitweb.cgi?p=gnu...   \n",
      "6     False          248         https://savannah.nongnu.org/projects/lwip/   \n",
      "7     False          553                           https://www.busybox.net/   \n",
      "8     False         1215                 http://www.gnu.org/software/emacs/   \n",
      "9     False         1916                               http://buildroot.org   \n",
      "10    False         6258                                  http://nginx.org/   \n",
      "\n",
      "           id    language                      mirror_url  network_count  \\\n",
      "0     5910838  Emacs Lisp                             NaN             41   \n",
      "1    47878082      Scheme                             NaN             55   \n",
      "2     2932093           C                             NaN             61   \n",
      "3    82003203       Shell                             NaN             94   \n",
      "4    25363818           C                             NaN            108   \n",
      "5    42075878           C                             NaN            135   \n",
      "6   152787888           C                             NaN            248   \n",
      "7     7512322           C                             NaN            553   \n",
      "8    22711712  Emacs Lisp  git://git.sv.gnu.org/emacs.git           1215   \n",
      "9     9752041    Makefile                             NaN           1916   \n",
      "10   37912398           C                             NaN           6258   \n",
      "\n",
      "    open_issues  ... watchers commits  issues  contributors  \\\n",
      "0             0  ...      313   25731       2           731   \n",
      "1             0  ...      220  111060       2           876   \n",
      "2             1  ...      238    3973       0             6   \n",
      "3             0  ...      538     516       3           103   \n",
      "4             0  ...      292    2660       4           116   \n",
      "5             2  ...      554    9957      18            90   \n",
      "6             6  ...      503    6738      17           135   \n",
      "7            54  ...     1263   17604      68           437   \n",
      "8            11  ...     3861  165884      31          1529   \n",
      "9             2  ...     2050   67529     112          1478   \n",
      "10            1  ...    18284    7155      79            81   \n",
      "\n",
      "                                            languages  creation_date  \\\n",
      "0   {'Emacs Lisp': 6951013, 'Makefile': 20330, 'Pe...     2012-09-22   \n",
      "1   {'Scheme': 40280865, 'C++': 478005, 'Shell': 2...     2015-12-12   \n",
      "2   {'C': 3810082, 'Perl': 207484, 'C++': 144132, ...     2011-12-07   \n",
      "3   {'Shell': 65051, 'Python': 31707, 'Emacs Lisp'...     2017-02-15   \n",
      "4   {'C': 2086041, 'Python': 72246, 'C++': 52435, ...     2014-10-17   \n",
      "5   {'C': 10546879, 'Scheme': 383522, 'TeX': 27272...     2015-09-07   \n",
      "6   {'C': 5672199, 'C#': 314095, 'CMake': 35647, '...     2018-10-12   \n",
      "7   {'C': 7777099, 'Shell': 345301, 'Assembly': 79...     2013-01-09   \n",
      "8   {'Emacs Lisp': 56887418, 'Roff': 15500626, 'C'...     2014-08-07   \n",
      "9   {'Makefile': 4125433, 'Python': 830083, 'C': 5...     2013-04-29   \n",
      "10  {'C': 5434680, 'Vim Script': 116017, 'XS': 253...     2015-06-23   \n",
      "\n",
      "                                            lang_dict  total_lines     group  \\\n",
      "0   {'Emacs Lisp': 6951013, 'Makefile': 20330, 'Pe...      6982855  167506.0   \n",
      "1   {'Scheme': 40280865, 'C++': 478005, 'Shell': 2...     41258661  174469.0   \n",
      "2   {'C': 3810082, 'Perl': 207484, 'C++': 144132, ...      4285856  163525.0   \n",
      "3   {'Shell': 65051, 'Python': 31707, 'Emacs Lisp'...       134003   93273.0   \n",
      "4   {'C': 2086041, 'Python': 72246, 'C++': 52435, ...      2354357  156922.0   \n",
      "5   {'C': 10546879, 'Scheme': 383522, 'TeX': 27272...     11840580  170586.0   \n",
      "6   {'C': 5672199, 'C#': 314095, 'CMake': 35647, '...      6068187  166502.0   \n",
      "7   {'C': 7777099, 'Shell': 345301, 'Assembly': 79...      8339455  168665.0   \n",
      "8   {'Emacs Lisp': 56887418, 'Roff': 15500626, 'C'...     95749633  175502.0   \n",
      "9   {'Makefile': 4125433, 'Python': 830083, 'C': 5...      6220636  166678.0   \n",
      "10  {'C': 5434680, 'Vim Script': 116017, 'XS': 253...      5587530  165875.0   \n",
      "\n",
      "   mailinglist  \n",
      "0         True  \n",
      "1         True  \n",
      "2         True  \n",
      "3         True  \n",
      "4         True  \n",
      "5         True  \n",
      "6         True  \n",
      "7         True  \n",
      "8         True  \n",
      "9         True  \n",
      "10        True  \n",
      "\n",
      "[11 rows x 25 columns]\n"
     ]
    }
   ],
   "source": [
    "repos['mailinglist'] = repos['name'].isin(mailing['name'])\n",
    "repos.loc[repos['name'] == 'buildroot/buildroot', 'mailinglist'] = True\n",
    "repos.loc[repos['name'] == 'michaelforney/cproc', 'mailinglist'] = False\n",
    "#repos.query(\"mailinglist == True\")['name'].to_csv('mailing_list_git_clone.csv', index=False)\n",
    "selected_mailing = repos[repos['mailinglist']].reset_index(drop=True)\n",
    "print(selected_mailing)"
   ]
  },
  {
   "cell_type": "code",
   "execution_count": 18,
   "id": "4da6340f",
   "metadata": {},
   "outputs": [
    {
     "name": "stdout",
     "output_type": "stream",
     "text": [
      "['bzg/org-mode', 'guix-mirror/guix', 'exg/rxvt-unicode', 'zx2c4/password-store', 'coreboot/seabios', 'gpg/gnupg', 'lwip-tcpip/lwip', 'mirror/busybox', 'emacs-mirror/emacs', 'buildroot/buildroot', 'nginx/nginx']\n"
     ]
    }
   ],
   "source": [
    "\n",
    "mailing = pd.read_csv(\"manual_check.csv\", low_memory=False)\n",
    "mailing = mailing[mailing['ml_type']==\"ok\"].reset_index(drop=True)\n",
    "manual_check = list(mailing[\"name\"])\n",
    "print(manual_check)\n"
   ]
  },
  {
   "cell_type": "markdown",
   "id": "18a40883",
   "metadata": {},
   "source": [
    "Now we have to rebuild the dataset and add a column for the mailinglist True vs False"
   ]
  },
  {
   "cell_type": "code",
   "execution_count": 19,
   "id": "eddb2b58",
   "metadata": {
    "scrolled": true
   },
   "outputs": [],
   "source": [
    "def string_to_dict(s):\n",
    "    res = s.replace(\"'\",'\"')\n",
    "    res = res.replace('p\"n',\"p'n\")\n",
    "    res = res.replace('n\"P',\"n'P\")\n",
    "    res = res.replace('not found','{}')\n",
    "    return json.loads(res)\n",
    "\n",
    "def total_lines(langs):\n",
    "    try:\n",
    "        return sum(langs.values())\n",
    "    except:\n",
    "        return 0\n",
    "repos[\"lang_dict\"] = repos[\"languages\"].apply(string_to_dict)\n",
    "repos[\"total_lines\"] = repos[\"lang_dict\"].apply(total_lines)\n"
   ]
  },
  {
   "cell_type": "code",
   "execution_count": 20,
   "id": "61ad3ecd",
   "metadata": {},
   "outputs": [],
   "source": [
    "# assign an id to all languages\n",
    "dict_set = {\"\"}\n",
    "for d in repos[\"lang_dict\"]:\n",
    "    try:\n",
    "        for k in d.keys():\n",
    "            dict_set.add(k)\n",
    "    except:\n",
    "        continue #again it's the empty stuff\n",
    "mapping_l_index = {l:i for i,l in enumerate(dict_set)}"
   ]
  },
  {
   "cell_type": "code",
   "execution_count": 21,
   "id": "a05006b4",
   "metadata": {},
   "outputs": [],
   "source": [
    "repos[\"group\"] = repos[\"total_lines\"].rank()"
   ]
  },
  {
   "cell_type": "markdown",
   "id": "3785235c",
   "metadata": {},
   "source": [
    "Defining functions for the matching:\n",
    "\n",
    "- `from_dict_to_vec`: the language dictionary of each repo becomes a vector in a multidimensional space\n",
    "- `neighbors`: we define the neighobors of each repo by considering 2% of the repo that have a similar number of lines\n",
    "- `compute_dist`: the distance between two repo in the language space\n",
    "- `match`: the main function combining the different pieces"
   ]
  },
  {
   "cell_type": "code",
   "execution_count": 22,
   "id": "7613756f",
   "metadata": {
    "scrolled": false
   },
   "outputs": [],
   "source": [
    "import datetime\n",
    "def from_dict_to_vec(dic):\n",
    "    v = np.zeros(len(mapping_l_index))\n",
    "    try:\n",
    "        for k,values in dic.items():\n",
    "            idx = mapping_l_index[k]\n",
    "            v[idx] = values\n",
    "        return v\n",
    "    except:\n",
    "        print(\"error\")\n",
    "        return v\n",
    "\n",
    "def neighbors(name, df):\n",
    "    percentile_df = df.query('name.eq(@name)')[\"group\"]\n",
    "    percentile = percentile_df.reset_index(drop=True).at[0]\n",
    "    epsilon = int(len(df.index)/200)\n",
    "    lb = percentile - epsilon\n",
    "    ub = percentile + epsilon\n",
    "\n",
    "    # exclude neighbors that are not marked with mailing list and with only 1 contributor\n",
    "    df_neighbors = df.reset_index(drop=True).query('group > @lb and group < @ub and mailinglist == False and contributors > 1')\n",
    "    return df_neighbors\n",
    "\n",
    "def compute_dist(dict1,dict2):\n",
    "    vec1 = from_dict_to_vec(dict1)\n",
    "    vec2 = from_dict_to_vec(dict2)\n",
    "    result = spatial.distance.cosine(vec1, vec2)\n",
    "    return result\n",
    "\n",
    "\n",
    "def match(ml_name, df):\n",
    "    # first get the neighbors\n",
    "    df_neigh = neighbors(ml_name,df)\n",
    "    ml_languages = df.query('name.eq(@ml_name)')[\"lang_dict\"].reset_index(drop=True).at[0]\n",
    "    ml_lines = df.query('name.eq(@ml_name)')[\"total_lines\"].reset_index(drop=True).at[0]\n",
    "    \n",
    "    df_neigh[\"distance\"] = df_neigh[\"lang_dict\"].apply(lambda x: compute_dist(ml_languages, x))\n",
    "    df_neigh[\"lines_dist\"] = df_neigh[\"total_lines\"].apply(lambda x: abs(x-ml_lines))\n",
    "    df_neigh[\"lines_dist_prc\"] = df_neigh[\"total_lines\"].apply(lambda x: round(abs(x-ml_lines)/ml_lines*100))\n",
    "    \n",
    "    # remove all results for which there is more than a 45 deg angle in the vector\n",
    "    max_distance = 1 - math.sqrt(2)/2\n",
    "    df_neigh = df_neigh.reset_index(drop=True).query('distance < @max_distance')\n",
    "\n",
    "    # now take the minimum distance\n",
    "    result = df_neigh.sort_values(by=[\"distance\", \"lines_dist\"]).head(10).reset_index(drop=True)\n",
    "\n",
    "    result = pd.concat([df.query('name.eq(@ml_name)'),result])\n",
    "    result[\"last_change\"] = result[\"last_change\"].apply(lambda x: datetime.datetime.strptime(x, \"%Y-%m-%d %H:%M:%S\").strftime(\"%Y-%m-%d\"))\n",
    "\n",
    "    return result[[\"name\", \"distance\", \"lines_dist_prc\", \"total_lines\", \"creation_date\", \"last_change\", \"commits\", \"contributors\", \"issues\", \"stars\", \"lang_dict\"]]\n"
   ]
  },
  {
   "cell_type": "code",
   "execution_count": 23,
   "id": "294fad79",
   "metadata": {
    "scrolled": true
   },
   "outputs": [
    {
     "name": "stdout",
     "output_type": "stream",
     "text": [
      "| name                                        |    distance |   lines_dist_prc |   total_lines | creation_date   | last_change   |   commits |   contributors |   issues |   stars | lang_dict                                                                                                                                      |\n",
      "|---------------------------------------------+-------------+------------------+---------------+-----------------+---------------+-----------+----------------+----------+---------+------------------------------------------------------------------------------------------------------------------------------------------------|\n",
      "| zx2c4/password-store                        | nan         |              nan |        134003 | 2017-02-15      | 2022-12-26    |       516 |            103 |        3 |     538 | {'Shell': 65051, 'Python': 31707, 'Emacs Lisp': 14393, 'Ruby': 13414, 'Makefile': 3105, 'AppleScript': 3004, 'Perl': 1768, 'Vim Script': 1561} |\n",
      "| pixelb/scripts                              |   0.0451035 |                0 |        133987 | 2010-06-28      | 2023-04-10    |       161 |             19 |       28 |     763 | {'Shell': 91574, 'Python': 34087, 'HTML': 8326}                                                                                                |\n",
      "| aws-deepracer-community/deepracer-for-cloud |   0.0509758 |                0 |        133934 | 2019-07-14      | 2023-03-30    |       449 |             29 |      131 |     253 | {'Shell': 77980, 'Python': 41089, 'HTML': 14865}                                                                                               |\n",
      "| poliva/random-scripts                       |   0.0608717 |                1 |        135842 | 2012-09-13      | 2019-09-22    |        94 |              2 |        6 |     229 | {'Shell': 104255, 'Python': 24987, 'PHP': 4610, 'Awk': 1685, 'Perl': 305}                                                                      |\n",
      "| stark/Color-Scripts                         |   0.12742   |                1 |        133021 | 2014-11-22      | 2021-11-14    |        59 |             11 |       29 |     936 | {'Shell': 129186, 'Python': 2114, 'Perl': 1721}                                                                                                |\n",
      "| MinecraftServerControl/mscs                 |   0.134053  |                1 |        135861 | 2013-06-24      | 2023-03-15    |       870 |             30 |      323 |     440 | {'Shell': 134433, 'Makefile': 1428}                                                                                                            |\n",
      "| michaeldfallen/git-radar                    |   0.134145  |                1 |        132011 | 2015-02-05      | 2020-08-31    |       237 |             19 |      118 |    2604 | {'Shell': 130981, 'Makefile': 1030}                                                                                                            |\n",
      "| cxreg/smartcd                               |   0.134371  |                1 |        133308 | 2009-04-23      | 2020-04-14    |       334 |             21 |       68 |     666 | {'Shell': 122904, 'Perl': 7777, 'Perl 6': 1397, 'Makefile': 1230}                                                                              |\n",
      "| weaveworks/prom-aggregation-gateway         |   0.134409  |                1 |        134811 | 2016-12-19      | 2023-01-06    |        71 |             13 |       79 |     326 | {'Shell': 58204, 'Go': 23802, 'Python': 23582, 'HCL': 18417, 'Makefile': 5647, 'Dockerfile': 3013, 'Starlark': 2146}                           |\n",
      "| Magisk-Modules-Repo/energizedprotection     |   0.134443  |                1 |        135516 | 2018-06-27      | 2022-02-05    |       159 |              8 |       48 |     239 | {'Shell': 135516}                                                                                                                              |\n",
      "| htr-tech/tstyle                             |   0.134443  |                0 |        134233 | 2020-01-11      | 2021-05-15    |        12 |              2 |        3 |     328 | {'Shell': 134233}                                                                                                                              |\n",
      "\n",
      "\n",
      "\n",
      "| name                                   |      distance |   lines_dist_prc |   total_lines | creation_date   | last_change   |   commits |   contributors |   issues |   stars | lang_dict                                                                                                                                                    |\n",
      "|----------------------------------------+---------------+------------------+---------------+-----------------+---------------+-----------+----------------+----------+---------+--------------------------------------------------------------------------------------------------------------------------------------------------------------|\n",
      "| coreboot/seabios                       | nan           |              nan |       2354357 | 2014-10-17      | 2023-04-12    |      2660 |            116 |        4 |     292 | {'C': 2086041, 'Python': 72246, 'C++': 52435, 'ASL': 44018, 'Assembly': 28864, 'Makefile': 23122, 'Yacc': 15395, 'Perl': 15187, 'Shell': 10365, 'Lex': 6684} |\n",
      "| kbeckmann/game-and-watch-retro-go      |   0.000789934 |                1 |       2329359 | 2020-11-29      | 2023-02-20    |       508 |             28 |      192 |     369 | {'C': 2217324, 'Python': 39689, 'Assembly': 37585, 'Shell': 25569, 'Makefile': 8025, 'Dockerfile': 1167}                                                     |\n",
      "| nikhilm/uvbook                         |   0.000823667 |                6 |       2221479 | 2012-06-16      | 2022-11-20    |       251 |             22 |       85 |    1565 | {'C': 2114093, 'Python': 46798, 'Makefile': 21056, 'Batchfile': 16424, 'M4': 14242, 'Shell': 7814, 'HTML': 541, 'JavaScript': 511}                           |\n",
      "| qba667/FlySkyI6                        |   0.00100836  |                2 |       2311609 | 2017-01-28      | 2021-06-14    |       175 |              5 |      160 |     260 | {'C': 2243253, 'Assembly': 20066, 'Python': 17677, 'C#': 15205, 'Makefile': 14761, 'Perl': 647}                                                              |\n",
      "| raspberrypi/pico-playground            |   0.00103177  |                0 |       2364404 | 2021-01-20      | 2023-02-11    |        27 |              5 |       39 |     310 | {'C': 2288646, 'C++': 31557, 'CMake': 26257, 'Assembly': 11458, 'Python': 6145, 'Shell': 341}                                                                |\n",
      "| stonedreamforest/NaiHeQiao             |   0.00104     |                4 |       2271020 | 2017-03-12      | 2020-03-17    |        45 |              3 |        1 |     207 | {'C': 2196905, 'C++': 64563, 'Makefile': 4125, 'Objective-C': 3723, 'Batchfile': 1073, 'HLSL': 631}                                                          |\n",
      "| schismtracker/schismtracker            |   0.0010479   |                6 |       2506281 | 2016-05-11      | 2023-03-30    |      2970 |             39 |      363 |     823 | {'C': 2413444, 'Python': 29848, 'Objective-C': 25337, 'M4': 12324, 'Roff': 10857, 'Makefile': 8876, 'Shell': 5595}                                           |\n",
      "| Tarsnap/tarsnap                        |   0.00105776  |                4 |       2261532 | 2015-05-18      | 2023-04-12    |      1738 |             25 |      567 |     781 | {'C': 2127285, 'Shell': 43392, 'Python': 33941, 'M4': 23740, 'Makefile': 23103, 'Awk': 10071}                                                                |\n",
      "| shchmue/Lockpick                       |   0.00106098  |                2 |       2304867 | 2018-12-08      | 2020-03-16    |        24 |              3 |       20 |     347 | {'C': 2221148, 'C++': 76511, 'Makefile': 7208}                                                                                                               |\n",
      "| NordicSemiconductor/Nordic-Thingy52-FW |   0.00108934  |                1 |       2330605 | 2017-05-19      | 2021-10-27    |        36 |              6 |       47 |     208 | {'C': 2240622, 'Assembly': 40192, 'Makefile': 28077, 'Python': 9093, 'CSS': 7423, 'HTML': 3430, 'Batchfile': 996, 'Shell': 772}                              |\n",
      "| iDroid-Project/openiBoot               |   0.00114961  |                3 |       2290768 | 2010-07-06      | 2022-04-05    |       946 |             22 |       45 |     361 | {'C': 2274123, 'Python': 15011, 'Makefile': 1634}                                                                                                            |\n",
      "\n",
      "\n",
      "\n",
      "| name                            |     distance |   lines_dist_prc |   total_lines | creation_date   | last_change   |   commits |   contributors |   issues |   stars | lang_dict                                                                                                                                                               |\n",
      "|---------------------------------+--------------+------------------+---------------+-----------------+---------------+-----------+----------------+----------+---------+-------------------------------------------------------------------------------------------------------------------------------------------------------------------------|\n",
      "| exg/rxvt-unicode                | nan          |              nan |       4285856 | 2011-12-07      | 2023-03-05    |      3973 |              6 |        0 |     238 | {'C': 3810082, 'Perl': 207484, 'C++': 144132, 'XS': 71765, 'M4': 25488, 'Shell': 13497, 'Makefile': 13408}                                                              |\n",
      "| FauxFaux/PuTTYTray              |   0.00125848 |                7 |       4570956 | 2011-10-09      | 2018-09-27    |      4830 |             20 |      291 |     659 | {'C': 4274546, 'Perl': 147104, 'Python': 88479, 'Shell': 19717, 'Makefile': 18881, 'M4': 7493, 'Inno Setup': 7075, 'C++': 6780, 'CMake': 881}                           |\n",
      "| lighttpd/lighttpd1.4            |   0.00163867 |                2 |       4352091 | 2011-11-12      | 2023-03-12    |      4790 |             40 |      124 |     513 | {'C': 4049211, 'Perl': 81348, 'M4': 54383, 'CMake': 43555, 'Python': 34290, 'Meson': 29739, 'Yacc': 24022, 'Makefile': 17129, 'Shell': 14005, 'HTML': 4365, 'Ruby': 44} |\n",
      "| suchmememanyskill/TegraExplorer |   0.00170632 |                7 |       4005980 | 2019-08-14      | 2023-02-21    |       400 |              7 |       75 |     495 | {'C': 3814061, 'C++': 147456, 'Python': 24029, 'Assembly': 10387, 'Makefile': 10047}                                                                                    |\n",
      "| d0k3/GodMode9                   |   0.00171101 |                5 |       4084152 | 2016-01-22      | 2023-04-11    |      1517 |             50 |      776 |    1737 | {'C': 3912707, 'C++': 133299, 'Assembly': 19862, 'Python': 13800, 'Makefile': 4484}                                                                                     |\n",
      "| rossumur/espflix                |   0.001752   |                2 |       4190164 | 2020-06-06      | 2020-08-08    |        12 |              2 |       12 |     926 | {'C': 3993869, 'C++': 196295}                                                                                                                                           |\n",
      "| spacemeowx2/switch-lan-play     |   0.00175371 |                6 |       4048045 | 2017-12-05      | 2023-04-06    |       293 |             15 |      151 |    1644 | {'C': 3916657, 'C++': 93175, 'TypeScript': 14905, 'CMake': 8829, 'Makefile': 8217, 'Perl': 2686, 'HTML': 2667, 'Shell': 662, 'Dockerfile': 224, 'Batchfile': 23}        |\n",
      "| Forairaaaaa/Chappie-Core        |   0.00180919 |                9 |       4675021 | 2022-07-15      | 2022-10-26    |        37 |              2 |        8 |     291 | {'C': 4550031, 'C++': 104295, 'Python': 20622, 'Makefile': 73}                                                                                                          |\n",
      "| nothings/obbg                   |   0.00181137 |                1 |       4259370 | 2015-04-28      | 2022-03-26    |       261 |              6 |       11 |     332 | {'C': 4042075, 'C++': 216653, 'Makefile': 624, 'Batchfile': 18}                                                                                                         |\n",
      "| DarkMatterCore/nxdumptool       |   0.00182894 |                8 |       3935275 | 2018-06-21      | 2023-04-09    |       483 |              6 |      130 |     642 | {'C': 3706301, 'C++': 155589, 'Python': 61911, 'Makefile': 10039, 'Shell': 1189, 'Batchfile': 246}                                                                      |\n",
      "| DragonMinded/libdragon          |   0.00186032 |                4 |       4457659 | 2010-09-29      | 2023-04-10    |       592 |             35 |      366 |     369 | {'C': 4216782, 'C++': 118760, 'Assembly': 64517, 'NASL': 27397, 'Makefile': 16175, 'Shell': 13139, 'Dockerfile': 889}                                                   |\n",
      "\n",
      "\n",
      "\n"
     ]
    },
    {
     "name": "stdout",
     "output_type": "stream",
     "text": [
      "| name                         |      distance |   lines_dist_prc |   total_lines | creation_date   | last_change   |   commits |   contributors |   issues |   stars | lang_dict                                                                                                |\n",
      "|------------------------------+---------------+------------------+---------------+-----------------+---------------+-----------+----------------+----------+---------+----------------------------------------------------------------------------------------------------------|\n",
      "| nginx/nginx                  | nan           |              nan |       5587530 | 2015-06-23      | 2023-04-11    |      7155 |             81 |       79 |   18284 | {'C': 5434680, 'Vim Script': 116017, 'XS': 25346, 'Perl': 6774, 'Makefile': 4121, 'C++': 592}            |\n",
      "| openresty/openresty          |   0.000239718 |                5 |       5290412 | 2010-01-20      | 2023-03-30    |      1692 |             31 |      901 |   11247 | {'C': 5290412}                                                                                           |\n",
      "| pvaret/rtl8192cu-fixes       |   0.000242735 |                5 |       5304037 | 2013-10-24      | 2022-08-31    |       118 |             21 |      185 |     794 | {'C': 5285960, 'Makefile': 17590, 'Shell': 487}                                                          |\n",
      "| solokeys/solo1               |   0.000248798 |                3 |       5727326 | 2018-09-13      | 2022-11-13    |      1265 |             47 |      624 |    2176 | {'C': 5674984, 'Makefile': 18835, 'Python': 14362, 'Assembly': 12805, 'Shell': 4172, 'Dockerfile': 2168} |\n",
      "| linuxmint/nemo               |   0.000254979 |                6 |       5260856 | 2012-07-18      | 2023-04-06    |      2293 |            118 |     3190 |     989 | {'C': 5219069, 'Meson': 26812, 'Python': 9925, 'CSS': 3374, 'Shell': 1676}                               |\n",
      "| Cyan4973/xxHash              |   0.000255294 |                7 |       5208942 | 2014-04-30      | 2023-04-03    |      1596 |             88 |      817 |    7273 | {'C': 5160230, 'Makefile': 31316, 'CMake': 7949, 'Roff': 4710, 'C++': 3079, 'Shell': 1658}               |\n",
      "| crash-utility/crash          |   0.000258519 |                6 |       5926715 | 2014-01-28      | 2023-04-10    |      1028 |             57 |      133 |     612 | {'C': 5871141, 'Makefile': 32208, 'Roff': 23366}                                                         |\n",
      "| iliasam/OpenSimpleLidar      |   0.00025953  |                1 |       5505978 | 2017-03-28      | 2023-03-27    |        96 |              4 |        8 |    2289 | {'C': 5457010, 'C#': 30780, 'C++': 15677, 'CMake': 2470, 'Makefile': 41}                                 |\n",
      "| espressif/esp-drone          |   0.00025986  |                7 |       5184045 | 2020-06-22      | 2023-03-30    |        98 |              6 |       49 |     438 | {'C': 5143830, 'HTML': 31455, 'CMake': 8760}                                                             |\n",
      "| mate-desktop/caja            |   0.0002604   |                4 |       5799672 | 2011-12-02      | 2022-12-23    |      1708 |            100 |     1701 |     236 | {'C': 5740488, 'Makefile': 40444, 'M4': 10378, 'Perl': 4048, 'CSS': 3633, 'Shell': 681}                  |\n",
      "| dekuNukem/Amazon_Dash_Button |   0.000260667 |                1 |       5627389 | 2015-05-14      | 2017-04-18    |        54 |              3 |       10 |     357 | {'C': 5575753, 'C++': 26933, 'Assembly': 24703}                                                          |\n",
      "\n",
      "\n",
      "\n",
      "| name                    |     distance |   lines_dist_prc |   total_lines | creation_date   | last_change   |   commits |   contributors |   issues |   stars | lang_dict                                                                                                                                                                                                                                                                                                                                  |\n",
      "|-------------------------+--------------+------------------+---------------+-----------------+---------------+-----------+----------------+----------+---------+--------------------------------------------------------------------------------------------------------------------------------------------------------------------------------------------------------------------------------------------------------------------------------------------------------------------------------------------|\n",
      "| lwip-tcpip/lwip         | nan          |              nan |       6068187 | 2018-10-12      | 2023-04-07    |      6738 |            135 |       17 |     503 | {'C': 5672199, 'C#': 314095, 'CMake': 35647, 'Makefile': 31295, 'HTML': 6323, 'Shell': 4877, 'Perl': 2654, 'Batchfile': 1097}                                                                                                                                                                                                              |\n",
      "| iliasam/OpenSimpleLidar |   0.00127095 |                9 |       5505978 | 2017-03-28      | 2023-03-27    |        96 |              4 |        8 |    2289 | {'C': 5457010, 'C#': 30780, 'C++': 15677, 'CMake': 2470, 'Makefile': 41}                                                                                                                                                                                                                                                                   |\n",
      "| Blosc/c-blosc           |   0.00133486 |                3 |       5868677 | 2011-07-03      | 2023-04-10    |      1555 |             63 |      364 |     901 | {'C': 5376413, 'Ada': 89079, 'Pascal': 75208, 'C#': 55627, 'Makefile': 52018, 'CMake': 46113, 'C++': 45276, 'Assembly': 30620, 'HTML': 29824, 'DIGITAL Command Language': 27305, 'Shell': 11158, 'Python': 8896, 'Roff': 7800, 'Starlark': 4480, 'Perl': 3897, 'SAS': 1847, 'Module Management System': 1545, 'M4': 787, 'Batchfile': 784} |\n",
      "| CESNET/libyang          |   0.00155046 |                4 |       6289106 | 2015-03-13      | 2023-04-11    |      3980 |             26 |     1979 |     317 | {'C': 6210362, 'CMake': 49239, 'Shell': 19438, 'Roff': 9841, 'Makefile': 226}                                                                                                                                                                                                                                                              |\n",
      "| mate-desktop/caja       |   0.00155319 |                4 |       5799672 | 2011-12-02      | 2022-12-23    |      1708 |            100 |     1701 |     236 | {'C': 5740488, 'Makefile': 40444, 'M4': 10378, 'Perl': 4048, 'CSS': 3633, 'Shell': 681}                                                                                                                                                                                                                                                    |\n",
      "| solokeys/solo1          |   0.00155824 |                6 |       5727326 | 2018-09-13      | 2022-11-13    |      1265 |             47 |      624 |    2176 | {'C': 5674984, 'Makefile': 18835, 'Python': 14362, 'Assembly': 12805, 'Shell': 4172, 'Dockerfile': 2168}                                                                                                                                                                                                                                   |\n",
      "| crash-utility/crash     |   0.00155828 |                2 |       5926715 | 2014-01-28      | 2023-04-10    |      1028 |             57 |      133 |     612 | {'C': 5871141, 'Makefile': 32208, 'Roff': 23366}                                                                                                                                                                                                                                                                                           |\n",
      "| lwfinger/rtl8723bu      |   0.00155899 |               10 |       6702300 | 2014-12-05      | 2023-02-18    |       275 |             17 |      198 |     260 | {'C': 6693187, 'Makefile': 9113}                                                                                                                                                                                                                                                                                                           |\n",
      "| lwfinger/rtw89          |   0.00156299 |                9 |       6612937 | 2020-12-30      | 2023-04-14    |       452 |             36 |      234 |     868 | {'C': 6609596, 'Makefile': 3216, 'Shell': 125}                                                                                                                                                                                                                                                                                             |\n",
      "| bjornbytes/lovr         |   0.00156332 |                1 |       6157571 | 2016-07-03      | 2023-04-06    |      4513 |             33 |      648 |    1500 | {'C': 6061840, 'CMake': 31775, 'Lua': 27645, 'GLSL': 17169, 'JavaScript': 14746, 'HTML': 2948, 'Java': 1345, 'Shell': 85, 'Batchfile': 18}                                                                                                                                                                                                 |\n",
      "| rockcarry/fanplayer     |   0.0015691  |                3 |       5873925 | 2018-03-10      | 2023-03-22    |       385 |              4 |       72 |     454 | {'C': 5792154, 'C++': 48657, 'Java': 18483, 'Shell': 10741, 'C#': 3890}                                                                                                                                                                                                                                                                    |\n",
      "\n",
      "\n",
      "\n",
      "| name                        |    distance |   lines_dist_prc |   total_lines | creation_date   | last_change   |   commits |   contributors |   issues |   stars | lang_dict                                                                                                                                                                                                                                                                                                                                 |\n",
      "|-----------------------------+-------------+------------------+---------------+-----------------+---------------+-----------+----------------+----------+---------+-------------------------------------------------------------------------------------------------------------------------------------------------------------------------------------------------------------------------------------------------------------------------------------------------------------------------------------------|\n",
      "| buildroot/buildroot         | nan         |              nan |       6220636 | 2013-04-29      | 2023-04-11    |     67529 |           1478 |      112 |    2050 | {'Makefile': 4125433, 'Python': 830083, 'C': 526133, 'Shell': 373229, 'HTML': 183832, 'C++': 53200, 'Perl': 47532, 'Yacc': 16797, 'Batchfile': 13621, 'Lua': 13326, 'Tcl': 10820, 'Lex': 6706, 'CMake': 5477, 'Arc': 3369, 'M4': 3274, 'Java': 2971, 'Dockerfile': 2029, 'Forth': 1905, 'Gnuplot': 404, 'JavaScript': 284, 'SMT': 211}    |\n",
      "| thiagooo0/lmnplayer         |   0.0349604 |                7 |       5806717 | 2017-07-20      | 2018-06-12    |        14 |              2 |        5 |     292 | {'Makefile': 5373318, 'Java': 422931, 'Kotlin': 10468}                                                                                                                                                                                                                                                                                    |\n",
      "| openwrt/packages            |   0.0935502 |                3 |       6031346 | 2014-05-29      | 2023-04-12    |     29090 |           1041 |    20765 |    3416 | {'Makefile': 3363288, 'Shell': 1758122, 'C': 509186, 'C++': 122272, 'Lua': 80816, 'Vala': 62251, 'PHP': 49593, 'UnrealScript': 32675, 'JavaScript': 10377, 'Ruby': 9201, 'Perl': 8822, 'Awk': 6363, 'CMake': 5768, 'Dockerfile': 5116, 'Go': 2273, 'Smarty': 1729, 'M4': 1262, 'CSS': 768, 'Vim Script': 572, 'Pawn': 544, 'Python': 348} |\n",
      "| Xilinx/Vitis_Accel_Examples |   0.122881  |                9 |       5680309 | 2019-10-13      | 2023-03-20    |      1739 |             40 |       87 |     388 | {'Makefile': 2978912, 'C++': 1542593, 'SystemVerilog': 378767, 'Python': 260123, 'C': 209699, 'Verilog': 205109, 'Tcl': 74977, 'Shell': 25973, 'Perl': 4156}                                                                                                                                                                              |\n",
      "\n",
      "\n",
      "\n"
     ]
    },
    {
     "name": "stdout",
     "output_type": "stream",
     "text": [
      "| name         |   distance |   lines_dist_prc |   total_lines | creation_date   | last_change   |   commits |   contributors |   issues |   stars | lang_dict                                                                               |\n",
      "|--------------+------------+------------------+---------------+-----------------+---------------+-----------+----------------+----------+---------+-----------------------------------------------------------------------------------------|\n",
      "| bzg/org-mode |        nan |              nan |       6982855 | 2012-09-22      | 2022-11-03    |     25731 |            731 |        2 |     313 | {'Emacs Lisp': 6951013, 'Makefile': 20330, 'Perl': 10477, 'LilyPond': 1022, 'HTML': 13} |\n",
      "\n",
      "\n",
      "\n",
      "| name                     |      distance |   lines_dist_prc |   total_lines | creation_date   | last_change   |   commits |   contributors |   issues |   stars | lang_dict                                                                                                                                                                              |\n",
      "|--------------------------+---------------+------------------+---------------+-----------------+---------------+-----------+----------------+----------+---------+----------------------------------------------------------------------------------------------------------------------------------------------------------------------------------------|\n",
      "| mirror/busybox           | nan           |              nan |       8339455 | 2013-01-09      | 2023-02-27    |     17604 |            437 |       68 |    1263 | {'C': 7777099, 'Shell': 345301, 'Assembly': 79972, 'Makefile': 55602, 'C++': 41130, 'Yacc': 14198, 'HTML': 8280, 'Lex': 6389, 'Perl': 5810, 'Python': 4733, 'Awk': 941}                |\n",
      "| rmyorston/busybox-w32    |   7.76676e-06 |               14 |       9500307 | 2012-03-04      | 2023-04-11    |     19084 |            445 |      307 |     527 | {'C': 8916179, 'Shell': 363884, 'Assembly': 79972, 'Makefile': 57806, 'C++': 41130, 'Yacc': 14198, 'HTML': 8280, 'Lex': 6389, 'Perl': 5810, 'Python': 5718, 'Awk': 941}                |\n",
      "| strace/strace            |   0.000195438 |                6 |       7865193 | 2015-01-10      | 2023-04-08    |      9943 |            168 |      249 |    1737 | {'C': 7430869, 'Shell': 239894, 'M4': 72023, 'Makefile': 65428, 'Perl': 25398, 'Awk': 17878, 'Yacc': 7577, 'Lex': 4937, 'sed': 1189}                                                   |\n",
      "| DoctorWkt/acwj           |   0.000367601 |                6 |       7873394 | 2019-10-18      | 2023-02-10    |       226 |             14 |       58 |    8013 | {'C': 7653413, 'Shell': 152874, 'Makefile': 57890, 'Roff': 8553, 'C++': 664}                                                                                                           |\n",
      "| OpenSC/OpenSC            |   0.000705071 |               12 |       7340597 | 2011-07-05      | 2023-04-12    |      9523 |            262 |     2745 |    2116 | {'C': 7055120, 'M4': 86080, 'Shell': 75417, 'Makefile': 61757, 'C++': 24862, 'Objective-C': 17720, 'Roff': 13853, 'Dockerfile': 3219, 'Lex': 2039, 'AppleScript': 530}                 |\n",
      "| rhboot/shim              |   0.000707703 |                5 |       7896009 | 2012-04-11      | 2023-04-11    |      1072 |             76 |      562 |     648 | {'C': 7782949, 'Shell': 66854, 'Makefile': 43740, 'Assembly': 2466}                                                                                                                    |\n",
      "| jiangwenyuan/nuster      |   0.000798728 |                8 |       8995605 | 2017-11-01      | 2021-12-07    |      7514 |            220 |      128 |    1885 | {'C': 8817959, 'Makefile': 53885, 'Shell': 53668, 'Python': 25528, 'C++': 16541, 'Lua': 14717, 'Vim Script': 7709, 'Perl': 5554, 'HTML': 44}                                           |\n",
      "| h3xduck/TripleCross      |   0.000806137 |                6 |       8869776 | 2021-10-27      | 2023-03-08    |       232 |              2 |       50 |    1433 | {'C': 8792490, 'Shell': 56794, 'Makefile': 10531, 'CMake': 7012, 'Python': 1499, 'Dockerfile': 1450}                                                                                   |\n",
      "| libxsmm/libxsmm          |   0.00082608  |                5 |       7940863 | 2014-09-23      | 2023-04-13    |     18054 |             85 |      757 |     716 | {'C': 7324287, 'Makefile': 161451, 'C++': 156102, 'Shell': 119065, 'Fortran': 96990, 'Python': 76837, 'Batchfile': 3540, 'JavaScript': 1077, 'Starlark': 882, 'HTML': 390, 'CSS': 242} |\n",
      "| google/fuzzer-test-suite |   0.000841016 |                9 |       7573895 | 2016-10-07      | 2021-08-25    |       792 |             19 |      173 |    1332 | {'C': 7503851, 'Shell': 40595, 'C++': 29449}                                                                                                                                           |\n",
      "| tpm2-software/tpm2-tss   |   0.000846525 |                3 |       8125597 | 2015-06-30      | 2023-04-10    |      2652 |            117 |     2597 |     591 | {'C': 7983808, 'Makefile': 47223, 'Shell': 41818, 'M4': 34414, 'Python': 18334}                                                                                                        |\n",
      "\n",
      "\n",
      "\n",
      "| name                         |     distance |   lines_dist_prc |   total_lines | creation_date   | last_change   |   commits |   contributors |   issues |   stars | lang_dict                                                                                                                                                                                                                                                                                 |\n",
      "|------------------------------+--------------+------------------+---------------+-----------------+---------------+-----------+----------------+----------+---------+-------------------------------------------------------------------------------------------------------------------------------------------------------------------------------------------------------------------------------------------------------------------------------------------|\n",
      "| gpg/gnupg                    | nan          |              nan |      11840580 | 2015-09-07      | 2023-04-12    |      9957 |             90 |       18 |     554 | {'C': 10546879, 'Scheme': 383522, 'TeX': 272721, 'M4': 222469, 'Shell': 202803, 'Makefile': 138304, 'NSIS': 56071, 'Awk': 10053, 'HTML': 3159, 'Perl': 1864, 'Python': 938, 'PHP': 822, 'CSS': 605, 'sed': 370}                                                                           |\n",
      "| RTimothyEdwards/magic        |   0.0011609  |               10 |      10646680 | 2019-03-26      | 2023-04-07    |      1403 |             27 |      223 |     320 | {'C': 9499271, 'Tcl': 239710, 'Shell': 232089, 'TeX': 200195, 'Perl': 141603, 'OpenEdge ABL': 94562, 'Scheme': 89055, 'Roff': 57909, 'Makefile': 41035, 'C++': 21167, 'Python': 18412, 'Prolog': 5938, 'Awk': 4744, 'Dockerfile': 990}                                                    |\n",
      "| FreeRADIUS/freeradius-server |   0.0011835  |               14 |      13546319 | 2008-07-20      | 2023-04-12    |     43524 |            244 |     4965 |    1813 | {'C': 12525229, 'Makefile': 244521, 'M4': 244332, 'Perl': 200162, 'Shell': 169140, 'SCSS': 38184, 'Python': 37929, 'PLpgSQL': 28297, 'TSQL': 15419, 'Lua': 9138, 'Dockerfile': 8437, 'PLSQL': 7042, 'SaltStack': 6315, 'Roff': 6232, 'C++': 3694, 'Ruby': 1023, 'SmPL': 1002, 'GDB': 223} |\n",
      "| charybdis-ircd/charybdis     |   0.00119828 |               11 |      10522103 | 2012-05-16      | 2021-06-24    |      3796 |             58 |      372 |     231 | {'C': 10250689, 'Shell': 181686, 'M4': 56885, 'Makefile': 14390, 'Lex': 7309, 'Yacc': 5924, 'Roff': 5220}                                                                                                                                                                                 |\n",
      "| OnionUI/Onion                |   0.00126729 |                7 |      11027373 | 2022-06-20      | 2023-04-14    |       703 |             25 |      622 |    1107 | {'C': 10787145, 'Shell': 144181, 'Makefile': 72976, 'HTML': 8406, 'Java': 5793, 'PowerShell': 5768, 'C++': 2256, 'CSS': 622, 'Batchfile': 226}                                                                                                                                            |\n",
      "| google/adiantum              |   0.00133902 |                1 |      11982705 | 2018-08-02      | 2023-01-31    |       255 |              2 |       19 |     459 | {'C': 11679951, 'TeX': 123983, 'Assembly': 103149, 'Python': 71920, 'Meson': 3336, 'Shell': 366}                                                                                                                                                                                          |\n",
      "| haproxy/haproxy              |   0.00135091 |                9 |      10766260 | 2018-04-09      | 2023-04-13    |     19781 |            370 |     2112 |    3609 | {'C': 10590879, 'Makefile': 61204, 'Shell': 60398, 'Python': 20557, 'Lua': 14705, 'Vim Script': 7696, 'Perl': 5554, 'SmPL': 5223, 'HTML': 44}                                                                                                                                             |\n",
      "| AmatCoder/mednaffe           |   0.00136046 |                8 |      12766239 | 2015-03-12      | 2022-10-28    |       299 |             12 |      162 |     327 | {'C': 12628135, 'Makefile': 83067, 'Shell': 53204, 'M4': 1833}                                                                                                                                                                                                                            |\n",
      "| libsndfile/libsamplerate     |   0.0013791  |               14 |      10175912 | 2014-11-30      | 2023-03-16    |       604 |             37 |      193 |     452 | {'C': 10063825, 'M4': 61314, 'CMake': 33323, 'MATLAB': 6006, 'Makefile': 5602, 'Shell': 5150, 'M': 692}                                                                                                                                                                                   |\n",
      "| pi-hole/FTL                  |   0.00140398 |               13 |      13377696 | 2017-02-02      | 2023-04-11    |      4427 |             70 |     1484 |    1166 | {'C': 13257289, 'Shell': 80927, 'CMake': 28499, 'Lua': 8465, 'Python': 2516}                                                                                                                                                                                                              |\n",
      "| lwfinger/rtl8188eu           |   0.00140847 |                9 |      12935597 | 2013-05-08      | 2023-04-10    |       530 |             27 |      439 |    1541 | {'C': 12746351, 'Makefile': 170271, 'Python': 10003, 'Shell': 4039, 'Roff': 3358, 'Perl': 1575}                                                                                                                                                                                           |\n",
      "\n",
      "\n",
      "\n"
     ]
    },
    {
     "name": "stdout",
     "output_type": "stream",
     "text": [
      "| name             |   distance |   lines_dist_prc |   total_lines | creation_date   | last_change   |   commits |   contributors |   issues |   stars | lang_dict                                                                                                                                                                                                                |\n",
      "|------------------+------------+------------------+---------------+-----------------+---------------+-----------+----------------+----------+---------+--------------------------------------------------------------------------------------------------------------------------------------------------------------------------------------------------------------------------|\n",
      "| guix-mirror/guix |        nan |              nan |      41258661 | 2015-12-12      | 2023-04-14    |    111060 |            876 |        2 |     220 | {'Scheme': 40280865, 'C++': 478005, 'Shell': 243263, 'Makefile': 145157, 'M4': 29654, 'C': 24824, 'Emacs Lisp': 15041, 'Common Lisp': 14953, 'Python': 11400, 'YASnippet': 10667, 'JavaScript': 4207, 'Vim Script': 625} |\n",
      "\n",
      "\n",
      "\n",
      "| name                              |      distance |   lines_dist_prc |   total_lines | creation_date   | last_change   |   commits |   contributors |   issues |   stars | lang_dict                                                                                                                                                                                                                                                                                                                                                                                                                                                                                                                                                                                                                                                                                                                                                                                                                                                          |\n",
      "|-----------------------------------+---------------+------------------+---------------+-----------------+---------------+-----------+----------------+----------+---------+--------------------------------------------------------------------------------------------------------------------------------------------------------------------------------------------------------------------------------------------------------------------------------------------------------------------------------------------------------------------------------------------------------------------------------------------------------------------------------------------------------------------------------------------------------------------------------------------------------------------------------------------------------------------------------------------------------------------------------------------------------------------------------------------------------------------------------------------------------------------|\n",
      "| emacs-mirror/emacs                | nan           |              nan |      95749633 | 2014-08-07      | 2023-04-07    |    165884 |           1529 |       31 |    3861 | {'Emacs Lisp': 56887418, 'Roff': 15500626, 'C': 14989062, 'Common Lisp': 4490653, 'Objective-C': 619114, 'M4': 616419, 'TeX': 569176, 'Makefile': 390387, 'C++': 168373, 'PostScript': 155798, 'Shell': 155141, 'Mathematica': 131221, 'HTML': 100939, 'Ruby': 95028, 'Perl': 84591, 'Pascal': 75359, 'MATLAB': 70506, 'Prolog': 62683, 'JavaScript': 57226, 'NewLisp': 54119, 'SystemVerilog': 50674, 'Slash': 49281, 'Smalltalk': 47140, 'SRecode Template': 45217, 'GDB': 41901, 'Yacc': 40927, 'Python': 39530, 'Ada': 39126, 'PHP': 33840, 'Awk': 25402, 'Batchfile': 20127, 'Fortran': 12354, 'Erlang': 11862, 'Lua': 7162, 'CSS': 3990, 'NSIS': 2327, 'Java': 1581, 'Forth': 1388, 'Modula-2': 890, 'Scheme': 526, 'Go': 503, 'Perl 6': 46}                                                                                                                 |\n",
      "| zklhp/emacs-w64                   |   0.000384076 |                6 |      90324116 | 2016-02-03      | 2017-09-14    |    125480 |            834 |        7 |     263 | {'Emacs Lisp': 54742804, 'C': 13798510, 'Roff': 13357627, 'Common Lisp': 4490653, 'Objective-C': 586184, 'TeX': 569137, 'M4': 534963, 'Makefile': 476673, 'C++': 316955, 'PostScript': 155795, 'Mathematica': 131574, 'Shell': 106955, 'HTML': 99062, 'Ruby': 94968, 'Perl': 84510, 'Pascal': 75358, 'MATLAB': 70505, 'Prolog': 62683, 'JavaScript': 55900, 'NewLisp': 54118, 'SystemVerilog': 50008, 'Slash': 49280, 'Smalltalk': 47140, 'SRecode Template': 45213, 'Yacc': 40927, 'Ada': 39126, 'GDB': 38341, 'PHP': 33840, 'Python': 32812, 'Awk': 25396, 'Batchfile': 19834, 'Fortran': 12354, 'Erlang': 11862, 'Lua': 7162, 'CSS': 1732, 'Java': 1580, 'Forth': 987, 'Modula-2': 890, 'Go': 503, 'Scheme': 160, 'Perl 6': 35}                                                                                                                                 |\n",
      "| masm11/emacs                      |   0.00557351  |                8 |     103226461 | 2017-11-07      | 2022-05-03    |    144518 |           1264 |      112 |     201 | {'Emacs Lisp': 59961275, 'Roff': 18384804, 'C': 16297622, 'Lex': 4489796, 'M4': 664005, 'Objective-C': 659928, 'TeX': 568470, 'Makefile': 397400, 'C++': 206637, 'Shell': 161585, 'PostScript': 155594, 'Mathematica': 134456, 'Perl': 116221, 'HTML': 98909, 'Ruby': 95050, 'Pascal': 75359, 'Prolog': 72587, 'MATLAB': 70570, 'JavaScript': 65943, 'NewLisp': 54119, 'SystemVerilog': 50674, 'Slash': 49281, 'SRecode Template': 49007, 'Smalltalk': 47140, 'GDB': 41781, 'Python': 41228, 'Yacc': 40928, 'Ada': 39126, 'PHP': 33840, 'Awk': 27104, 'Batchfile': 20127, 'Fortran': 12354, 'Erlang': 11862, 'SmPL': 9855, 'Lua': 7162, 'Java': 3425, 'NSIS': 2327, 'SCSS': 1979, 'CSS': 1857, 'Forth': 1388, 'Modula-2': 890, 'Tcl': 876, 'Less': 718, 'Go': 503, 'Scheme': 366, 'Raku': 333}                                                                     |\n",
      "| emacs-ng/emacs-ng                 |   0.0136748   |               27 |     121322820 | 2020-08-23      | 2023-04-08    |    166435 |           1558 |      512 |    1415 | {'Emacs Lisp': 67246702, 'Roff': 29947796, 'C': 18768082, 'M4': 823573, 'Objective-C': 712464, 'TeX': 568637, 'Rust': 550080, 'Makefile': 419954, 'C++': 355306, 'Shell': 273783, 'PostScript': 155594, 'Mathematica': 136791, 'Perl': 126765, 'Python': 100243, 'HTML': 99072, 'Ruby': 98642, 'JavaScript': 87754, 'Mercury': 80392, 'Pascal': 75359, 'Prolog': 72589, 'MATLAB': 70571, 'NewLisp': 54116, 'SystemVerilog': 51348, 'GDB': 50891, 'Slash': 49281, 'SRecode Template': 49014, 'Smalltalk': 47140, 'Yacc': 40928, 'Ada': 39126, 'Awk': 37923, 'PHP': 33630, 'Batchfile': 20654, 'Nix': 13091, 'Fortran': 12354, 'Erlang': 11862, 'SmPL': 9709, 'Lua': 7162, 'Dockerfile': 3821, 'Java': 3662, 'Hack': 3431, 'Raku': 2469, 'NSIS': 2152, 'SCSS': 2016, 'CSS': 1857, 'Forth': 1388, 'Modula-2': 890, 'Tcl': 876, 'Less': 718, 'Scheme': 659, 'Go': 503} |\n",
      "| commercial-emacs/commercial-emacs |   0.0145096   |               24 |     118668362 | 2021-08-28      | 2023-04-14    |    172945 |           1531 |      750 |     329 | {'Emacs Lisp': 66365446, 'Roff': 29947952, 'C': 17427902, 'M4': 831340, 'Objective-C': 712296, 'TeX': 568641, 'C++': 529207, 'Makefile': 417648, 'Shell': 259344, 'PostScript': 155606, 'Mathematica': 136792, 'Perl': 126613, 'HTML': 98944, 'Ruby': 98642, 'Python': 94608, 'Mercury': 80392, 'Pascal': 75359, 'Prolog': 72589, 'MATLAB': 70571, 'JavaScript': 65915, 'NewLisp': 54120, 'SystemVerilog': 51352, 'Slash': 49281, 'SRecode Template': 49086, 'Smalltalk': 47140, 'GDB': 41571, 'Yacc': 40928, 'Ada': 39126, 'Awk': 37990, 'PHP': 33630, 'Batchfile': 20666, 'Fortran': 12354, 'Erlang': 11862, 'SmPL': 9709, 'Lua': 7162, 'Scheme': 6484, 'Java': 3670, 'Hack': 3435, 'Raku': 2469, 'NSIS': 2152, 'SCSS': 2016, 'CSS': 1857, 'Forth': 1388, 'Modula-2': 890, 'Tcl': 876, 'Less': 718, 'Go': 503, 'Rust': 120}                                      |\n",
      "| remacs/remacs                     |   0.019466    |               18 |      78755887 | 2016-11-22      | 2021-04-07    |    135304 |           1134 |     1594 |    4558 | {'Emacs Lisp': 56550303, 'C': 13120473, 'Roff': 4490653, 'Rust': 996571, 'Objective-C': 599684, 'M4': 579589, 'TeX': 569176, 'Makefile': 206715, 'PostScript': 155798, 'Shell': 131746, 'Mathematica': 131302, 'C++': 130018, 'HTML': 101197, 'Ruby': 95028, 'Perl': 84591, 'Pascal': 75359, 'Prolog': 72585, 'MATLAB': 70506, 'JavaScript': 57226, 'NewLisp': 54119, 'SystemVerilog': 50674, 'Slash': 49281, 'Smalltalk': 47140, 'SRecode Template': 45217, 'Python': 45122, 'GDB': 42397, 'Yacc': 40927, 'Ada': 39126, 'PHP': 33840, 'Awk': 25402, 'Fortran': 12354, 'Erlang': 11862, 'SmPL': 9855, 'Lua': 7162, 'Batchfile': 4119, 'Dockerfile': 3829, 'Hack': 3229, 'NSIS': 2327, 'SCSS': 1825, 'CSS': 1667, 'Java': 1581, 'Forth': 1388, 'Modula-2': 890, 'Scheme': 526, 'Go': 503, 'Less': 498, 'Nix': 461, 'Raku': 46}                                      |\n",
      "| aquamacs-emacs/aquamacs-emacs     |   0.0928378   |               44 |     137980074 | 2009-03-31      | 2022-02-27    |    126007 |            849 |      239 |     401 | {'Emacs Lisp': 68161830, 'HTML': 32682014, 'Roff': 17848280, 'C': 14042948, 'TeX': 908842, 'Perl': 850271, 'Objective-C': 671845, 'M4': 536467, 'Makefile': 483350, 'JavaScript': 227396, 'Shell': 166166, 'PostScript': 155795, 'Mathematica': 131602, 'C++': 104601, 'Python': 97638, 'Ruby': 94968, 'Pascal': 75358, 'Prolog': 72585, 'MATLAB': 72273, 'R': 56061, 'NewLisp': 54118, 'SystemVerilog': 50008, 'Slash': 49280, 'SRecode Template': 47399, 'Smalltalk': 47140, 'Yacc': 40927, 'Ada': 39126, 'GDB': 38341, 'CSS': 34823, 'PHP': 33840, 'Awk': 25396, 'Batchfile': 19900, 'Fortran': 12354, 'Erlang': 11862, 'SmPL': 9855, 'Lua': 7162, 'Haskell': 6642, 'Hack': 3239, 'Julia': 2872, 'Java': 1580, 'SCSS': 1172, 'Forth': 987, 'Modula-2': 890, 'Go': 503, 'Raku': 208, 'Scheme': 160}                                                              |\n",
      "\n",
      "\n",
      "\n"
     ]
    }
   ],
   "source": [
    "manual_check_sorted_by_total_lines = repos.query('name in @manual_check').sort_values([\"total_lines\"])[\"name\"].values\n",
    "for mailinglist in manual_check_sorted_by_total_lines:\n",
    "    print(match(mailinglist,repos).to_markdown(tablefmt=\"orgtbl\",index=False))\n",
    "    print(\"\\n\\n\")"
   ]
  },
  {
   "cell_type": "markdown",
   "id": "ad1742b1",
   "metadata": {},
   "source": [
    "Manually check the candidates: automatically open the candidates in firefox tabs and check them"
   ]
  }
 ],
 "metadata": {
  "kernelspec": {
   "display_name": "Python 3 (ipykernel)",
   "language": "python",
   "name": "python3"
  },
  "language_info": {
   "codemirror_mode": {
    "name": "ipython",
    "version": 3
   },
   "file_extension": ".py",
   "mimetype": "text/x-python",
   "name": "python",
   "nbconvert_exporter": "python",
   "pygments_lexer": "ipython3",
   "version": "3.10.12"
  }
 },
 "nbformat": 4,
 "nbformat_minor": 5
}
